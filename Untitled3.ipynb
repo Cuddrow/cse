{
 "cells": [
  {
   "cell_type": "code",
   "execution_count": 1,
   "metadata": {
    "collapsed": true
   },
   "outputs": [],
   "source": [
    "from pylab import *"
   ]
  },
  {
   "cell_type": "code",
   "execution_count": 2,
   "metadata": {
    "collapsed": true
   },
   "outputs": [],
   "source": [
    "import pandas as pd"
   ]
  },
  {
   "cell_type": "code",
   "execution_count": 35,
   "metadata": {},
   "outputs": [
    {
     "name": "stdout",
     "output_type": "stream",
     "text": [
      "192\n"
     ]
    }
   ],
   "source": [
    "templist = zeros(96)\n",
    "print(48*4)\n",
    "import random as rd"
   ]
  },
  {
   "cell_type": "code",
   "execution_count": 47,
   "metadata": {
    "scrolled": true
   },
   "outputs": [
    {
     "name": "stdout",
     "output_type": "stream",
     "text": [
      "0 23.0\n",
      "1 23.514\n",
      "2 24.032\n",
      "3 24.552\n",
      "4 25.075\n",
      "5 25.6\n",
      "6 26.127\n",
      "7 26.656\n",
      "8 27.188\n",
      "9 27.721\n",
      "10 28.256\n",
      "11 28.792\n",
      "12 29.33\n",
      "13 29.87\n",
      "14 30.41\n",
      "15 30.952\n",
      "16 31.496\n",
      "17 32.04\n",
      "18 32.585\n",
      "19 33.132\n",
      "20 33.679\n",
      "21 34.228\n",
      "22 34.777\n",
      "23 35.327\n",
      "24 35.877\n",
      "25 36.429\n",
      "26 36.981\n",
      "27 37.534\n",
      "28 38.088\n",
      "29 38.642\n",
      "30 39.197\n",
      "31 39.752\n",
      "32 40.308\n",
      "33 40.333\n",
      "34 40.345\n",
      "35 40.387\n",
      "36 40.412\n",
      "37 40.447\n",
      "38 40.464\n",
      "39 40.485\n",
      "40 40.505\n",
      "41 40.105\n",
      "42 39.705\n",
      "43 39.305\n",
      "44 38.905\n",
      "45 38.505\n",
      "46 38.105\n",
      "47 37.705\n",
      "48 37.305\n",
      "49 36.905\n",
      "50 36.505\n",
      "51 35.829\n",
      "52 35.166\n",
      "53 34.516\n",
      "54 33.877\n",
      "55 33.251\n",
      "56 32.635\n",
      "57 32.032\n",
      "58 31.439\n",
      "59 30.857\n",
      "60 30.287\n",
      "61 30.027\n",
      "62 29.767\n",
      "63 29.507\n",
      "64 29.247\n",
      "65 28.987\n",
      "66 28.727\n",
      "67 28.467\n",
      "68 28.207\n",
      "69 27.947\n",
      "70 27.687\n",
      "71 27.427\n",
      "72 27.167\n",
      "73 26.907\n",
      "74 26.647\n",
      "75 26.387\n",
      "76 26.127\n",
      "77 25.867\n",
      "78 25.607\n",
      "79 25.347\n",
      "80 25.087\n",
      "81 24.827\n",
      "82 24.567\n",
      "83 24.307\n",
      "84 24.047\n",
      "85 23.787\n",
      "86 23.527\n",
      "87 23.267\n",
      "88 23.007\n",
      "89 22.747\n",
      "90 22.487\n",
      "91 22.227\n",
      "92 21.967\n",
      "93 21.707\n",
      "94 21.447\n",
      "95 21.187\n"
     ]
    }
   ],
   "source": [
    "starting_temp = 23\n",
    "templist[0] = starting_temp\n",
    "modifier = 0.5\n",
    "for i in range(1,96,1):\n",
    "    # From 08:00 to 16:00 - 32 steps - try increase of 0.68 per 15 minutes\n",
    "    if i <= 32:\n",
    "        templist[i] = templist[i-1] + (1-(modifier*(templist[i-1]/templist[i])))\n",
    "    # From 16:00 to 18:00 - 8 steps\n",
    "    elif i > 32 and i <= 40:\n",
    "        templist[i] = templist[i-1] + rd.uniform(0.01,0.05)\n",
    "    # From 18 to 20:30 - 10 steps\n",
    "    elif i > 40 and i <= 50:\n",
    "        templist[i] = templist[i-1] - 0.4\n",
    "    # From 20:30 to 22:30 - 10 steps - try reduction of 0.875 per 15 minutes\n",
    "    elif i > 50 and i <= 60:\n",
    "        templist[i] = templist[i-1] - templist[i-1]*0.0185\n",
    "    # From 22:30 to 08:00 - 38 steps\n",
    "    elif i > 60:\n",
    "        templist[i] = templist[i-1] - 0.26\n",
    "\n",
    "for index, temp in enumerate(templist):\n",
    "    print(index,round(temp,3))"
   ]
  },
  {
   "cell_type": "code",
   "execution_count": 8,
   "metadata": {},
   "outputs": [
    {
     "data": {
      "text/plain": [
       "96"
      ]
     },
     "execution_count": 8,
     "metadata": {},
     "output_type": "execute_result"
    }
   ],
   "source": [
    "len(templist)"
   ]
  },
  {
   "cell_type": "code",
   "execution_count": 9,
   "metadata": {
    "collapsed": true
   },
   "outputs": [],
   "source": [
    "timelist = zeros(96)"
   ]
  },
  {
   "cell_type": "code",
   "execution_count": 10,
   "metadata": {
    "collapsed": true
   },
   "outputs": [],
   "source": [
    "timelist = arange(96)"
   ]
  },
  {
   "cell_type": "code",
   "execution_count": 11,
   "metadata": {},
   "outputs": [
    {
     "data": {
      "text/plain": [
       "array([ 0,  1,  2,  3,  4,  5,  6,  7,  8,  9, 10, 11, 12, 13, 14, 15, 16,\n",
       "       17, 18, 19, 20, 21, 22, 23, 24, 25, 26, 27, 28, 29, 30, 31, 32, 33,\n",
       "       34, 35, 36, 37, 38, 39, 40, 41, 42, 43, 44, 45, 46, 47, 48, 49, 50,\n",
       "       51, 52, 53, 54, 55, 56, 57, 58, 59, 60, 61, 62, 63, 64, 65, 66, 67,\n",
       "       68, 69, 70, 71, 72, 73, 74, 75, 76, 77, 78, 79, 80, 81, 82, 83, 84,\n",
       "       85, 86, 87, 88, 89, 90, 91, 92, 93, 94, 95])"
      ]
     },
     "execution_count": 11,
     "metadata": {},
     "output_type": "execute_result"
    }
   ],
   "source": [
    "timelist"
   ]
  },
  {
   "cell_type": "code",
   "execution_count": 48,
   "metadata": {},
   "outputs": [
    {
     "data": {
      "image/png": "[encoded data removed]",
      "text/plain": [
       "<matplotlib.figure.Figure at 0x7fde55fde208>"
      ]
     },
     "metadata": {},
     "output_type": "display_data"
    }
   ],
   "source": [
    "plot(timelist, templist, 'r-')\n",
    "show()"
   ]
  },
  {
   "cell_type": "code",
   "execution_count": null,
   "metadata": {
    "collapsed": true
   },
   "outputs": [],
   "source": []
  }
 ],
 "metadata": {
  "kernelspec": {
   "display_name": "Python 3",
   "language": "python",
   "name": "python3"
  },
  "language_info": {
   "codemirror_mode": {
    "name": "ipython",
    "version": 3
   },
   "file_extension": ".py",
   "mimetype": "text/x-python",
   "name": "python",
   "nbconvert_exporter": "python",
   "pygments_lexer": "ipython3",
   "version": "3.6.1"
  }
 },
 "nbformat": 4,
 "nbformat_minor": 2
}
